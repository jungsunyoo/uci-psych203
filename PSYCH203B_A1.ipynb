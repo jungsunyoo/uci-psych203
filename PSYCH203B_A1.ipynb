{
  "nbformat": 4,
  "nbformat_minor": 0,
  "metadata": {
    "colab": {
      "name": "PSYCH203B_A1.ipynb",
      "provenance": [],
      "authorship_tag": "ABX9TyPjh57plRqdB7A/7U7iKn+Z",
      "include_colab_link": true
    },
    "kernelspec": {
      "name": "python3",
      "display_name": "Python 3"
    }
  },
  "cells": [
    {
      "cell_type": "markdown",
      "metadata": {
        "id": "view-in-github",
        "colab_type": "text"
      },
      "source": [
        "<a href=\"https://colab.research.google.com/github/yoojungsun0/uci-psych203/blob/main/PSYCH203B_A1.ipynb\" target=\"_parent\"><img src=\"https://colab.research.google.com/assets/colab-badge.svg\" alt=\"Open In Colab\"/></a>"
      ]
    },
    {
      "cell_type": "markdown",
      "metadata": {
        "id": "uaFxY2wE3SvC"
      },
      "source": [
        "# 1. Go visualize the data. How does resp change as a function of target for sessionID 361?\n",
        "\n"
      ]
    },
    {
      "cell_type": "code",
      "metadata": {
        "colab": {
          "base_uri": "https://localhost:8080/",
          "height": 204
        },
        "id": "x8vpJSAM1fCr",
        "outputId": "ee3d8afb-4141-4985-fbae-5270ec975960"
      },
      "source": [
        "import pandas as pd\n",
        "from urllib.request import Request, urlopen\n",
        "import matplotlib.pyplot as plt\n",
        "import numpy as np\n",
        "\n",
        "url = \"https://raw.githubusercontent.com/PerceptionCognitionLab/data2/master/out/morph1.dat\"\n",
        "url_request  = Request(url)\n",
        "data = urlopen(url_request )\n",
        "df = pd.read_table(data, header=0, sep=' ')\n",
        "df.head(5)"
      ],
      "execution_count": 1,
      "outputs": [
        {
          "output_type": "execute_result",
          "data": {
            "text/html": [
              "<div>\n",
              "<style scoped>\n",
              "    .dataframe tbody tr th:only-of-type {\n",
              "        vertical-align: middle;\n",
              "    }\n",
              "\n",
              "    .dataframe tbody tr th {\n",
              "        vertical-align: top;\n",
              "    }\n",
              "\n",
              "    .dataframe thead th {\n",
              "        text-align: right;\n",
              "    }\n",
              "</style>\n",
              "<table border=\"1\" class=\"dataframe\">\n",
              "  <thead>\n",
              "    <tr style=\"text-align: right;\">\n",
              "      <th></th>\n",
              "      <th>datID</th>\n",
              "      <th>sessionID</th>\n",
              "      <th>block</th>\n",
              "      <th>trial</th>\n",
              "      <th>background</th>\n",
              "      <th>target</th>\n",
              "      <th>forePeriod</th>\n",
              "      <th>resp</th>\n",
              "      <th>rt</th>\n",
              "    </tr>\n",
              "  </thead>\n",
              "  <tbody>\n",
              "    <tr>\n",
              "      <th>0</th>\n",
              "      <td>1</td>\n",
              "      <td>360</td>\n",
              "      <td>0</td>\n",
              "      <td>0</td>\n",
              "      <td>0</td>\n",
              "      <td>1</td>\n",
              "      <td>32</td>\n",
              "      <td>0</td>\n",
              "      <td>1.262</td>\n",
              "    </tr>\n",
              "    <tr>\n",
              "      <th>1</th>\n",
              "      <td>2</td>\n",
              "      <td>360</td>\n",
              "      <td>0</td>\n",
              "      <td>1</td>\n",
              "      <td>0</td>\n",
              "      <td>8</td>\n",
              "      <td>31</td>\n",
              "      <td>0</td>\n",
              "      <td>0.934</td>\n",
              "    </tr>\n",
              "    <tr>\n",
              "      <th>2</th>\n",
              "      <td>3</td>\n",
              "      <td>360</td>\n",
              "      <td>0</td>\n",
              "      <td>2</td>\n",
              "      <td>0</td>\n",
              "      <td>9</td>\n",
              "      <td>35</td>\n",
              "      <td>1</td>\n",
              "      <td>0.604</td>\n",
              "    </tr>\n",
              "    <tr>\n",
              "      <th>3</th>\n",
              "      <td>4</td>\n",
              "      <td>360</td>\n",
              "      <td>0</td>\n",
              "      <td>3</td>\n",
              "      <td>0</td>\n",
              "      <td>0</td>\n",
              "      <td>31</td>\n",
              "      <td>0</td>\n",
              "      <td>0.617</td>\n",
              "    </tr>\n",
              "    <tr>\n",
              "      <th>4</th>\n",
              "      <td>5</td>\n",
              "      <td>360</td>\n",
              "      <td>0</td>\n",
              "      <td>4</td>\n",
              "      <td>0</td>\n",
              "      <td>7</td>\n",
              "      <td>31</td>\n",
              "      <td>0</td>\n",
              "      <td>0.486</td>\n",
              "    </tr>\n",
              "  </tbody>\n",
              "</table>\n",
              "</div>"
            ],
            "text/plain": [
              "   datID  sessionID  block  trial  background  target  forePeriod  resp     rt\n",
              "0      1        360      0      0           0       1          32     0  1.262\n",
              "1      2        360      0      1           0       8          31     0  0.934\n",
              "2      3        360      0      2           0       9          35     1  0.604\n",
              "3      4        360      0      3           0       0          31     0  0.617\n",
              "4      5        360      0      4           0       7          31     0  0.486"
            ]
          },
          "metadata": {
            "tags": []
          },
          "execution_count": 1
        }
      ]
    },
    {
      "cell_type": "code",
      "metadata": {
        "colab": {
          "base_uri": "https://localhost:8080/",
          "height": 296
        },
        "id": "QPyLGPts23l9",
        "outputId": "cda97214-e16b-4b89-a3ab-7f2f3874146e"
      },
      "source": [
        "s361 = df.loc[df['sessionID'] == 361]\n",
        "\n",
        "x = np.asarray(s361['target'])\n",
        "y = np.asarray(s361['resp'])\n",
        "X = x.reshape(-1,1)\n",
        "\n",
        "plt.scatter(x, y, marker='o')\n",
        "plt.xlabel('Target')\n",
        "plt.ylabel('Resp')\n"
      ],
      "execution_count": 2,
      "outputs": [
        {
          "output_type": "execute_result",
          "data": {
            "text/plain": [
              "Text(0, 0.5, 'Resp')"
            ]
          },
          "metadata": {
            "tags": []
          },
          "execution_count": 2
        },
        {
          "output_type": "display_data",
          "data": {
            "image/png": "[encoded data removed]",
            "text/plain": [
              "<Figure size 432x288 with 1 Axes>"
            ]
          },
          "metadata": {
            "tags": [],
            "needs_background": "light"
          }
        }
      ]
    },
    {
      "cell_type": "markdown",
      "metadata": {
        "id": "CoHIifCamNGs"
      },
      "source": [
        "# 2. Fit a logistic regression model to it. What are the best parameter estimates?\n",
        "\n"
      ]
    },
    {
      "cell_type": "code",
      "metadata": {
        "id": "MfBqaGXoougu"
      },
      "source": [
        "from scipy.optimize import curve_fit # This imports the curve fitting (parameter optimizing) function from scipy\n",
        "\n",
        "def make_p(q):\n",
        "  return 1 / (1+np.exp(-q))\n",
        "\n",
        "def nll(par, x, dat):\n",
        "  q = par[0] + par[1]*x\n",
        "  p = make_p(q)\n",
        "  llvec = dat*np.log(p) + (1-dat)*np.log(1-p)\n",
        "  return -np.sum(llvec)\n",
        "\n"
      ],
      "execution_count": 3,
      "outputs": []
    },
    {
      "cell_type": "code",
      "metadata": {
        "colab": {
          "base_uri": "https://localhost:8080/"
        },
        "id": "hVrZ4sobxbrJ",
        "outputId": "84d532eb-0546-4d09-f31d-2cdd2cf871c9"
      },
      "source": [
        "popt, _ = curve_fit(nll, X,y) \n",
        "# In the optimization function, three arguments should be provided: \n",
        "#(1) function (2) the x data we're trying to optimize parameters on , and (3) the y data (labels) we're trying to fit the parameters on\n",
        "# Returns: the best parameters"
      ],
      "execution_count": 4,
      "outputs": [
        {
          "output_type": "stream",
          "text": [
            "/usr/local/lib/python3.6/dist-packages/ipykernel_launcher.py:9: RuntimeWarning: divide by zero encountered in log\n",
            "  if __name__ == '__main__':\n",
            "/usr/local/lib/python3.6/dist-packages/ipykernel_launcher.py:4: RuntimeWarning: overflow encountered in exp\n",
            "  after removing the cwd from sys.path.\n",
            "/usr/local/lib/python3.6/dist-packages/scipy/optimize/minpack.py:808: OptimizeWarning: Covariance of the parameters could not be estimated\n",
            "  category=OptimizeWarning)\n"
          ],
          "name": "stderr"
        }
      ]
    },
    {
      "cell_type": "code",
      "metadata": {
        "colab": {
          "base_uri": "https://localhost:8080/"
        },
        "id": "KkMcBL-Btz_F",
        "outputId": "d6f1a3c1-e794-41ef-a04f-3259798a5a11"
      },
      "source": [
        "popt"
      ],
      "execution_count": 5,
      "outputs": [
        {
          "output_type": "execute_result",
          "data": {
            "text/plain": [
              "array([-2.5454863 ,  1.01098412])"
            ]
          },
          "metadata": {
            "tags": []
          },
          "execution_count": 5
        }
      ]
    },
    {
      "cell_type": "markdown",
      "metadata": {
        "id": "Tq0gtyrn2JLj"
      },
      "source": [
        "The best parameters are: alpha = -2.55, beta = 1.01.  \n"
      ]
    },
    {
      "cell_type": "markdown",
      "metadata": {
        "id": "yR7VQpox0i5u"
      },
      "source": [
        "# 3. How does this regression model account for the data? Visualize it. You should be able to draw the logistic curve at the MLE on top of the data. Then you can inspect the results to look for misfits."
      ]
    },
    {
      "cell_type": "markdown",
      "metadata": {
        "id": "0T8F3mPxcp9t"
      },
      "source": [
        "Now, I will define a new function (new_func) which take in alpha and beta as given arguments. I will pass the best parameters to the function."
      ]
    },
    {
      "cell_type": "code",
      "metadata": {
        "id": "7MO2ayumvkx6"
      },
      "source": [
        "def new_func(x, alpha, beta):\n",
        "  q = alpha + beta*x\n",
        "  p = make_p(q)\n",
        "  return p"
      ],
      "execution_count": 6,
      "outputs": []
    },
    {
      "cell_type": "markdown",
      "metadata": {
        "id": "oqpZwdtUcAl3"
      },
      "source": [
        "I will plot the logistic regression curve on the data using the best parameters."
      ]
    },
    {
      "cell_type": "code",
      "metadata": {
        "colab": {
          "base_uri": "https://localhost:8080/",
          "height": 296
        },
        "id": "DNP_Tf0JvKy9",
        "outputId": "5d8f093f-8966-4ad3-b761-b231a8fc91d4"
      },
      "source": [
        "plt.scatter(X,y, marker='o')\n",
        "# x = s361['target']\n",
        "x=np.arange(-20,20)\n",
        "plt.plot(x,new_func(x,*popt), 'r--')\n",
        "plt.xlabel('Target')\n",
        "plt.ylabel('Resp')"
      ],
      "execution_count": 7,
      "outputs": [
        {
          "output_type": "execute_result",
          "data": {
            "text/plain": [
              "Text(0, 0.5, 'Resp')"
            ]
          },
          "metadata": {
            "tags": []
          },
          "execution_count": 7
        },
        {
          "output_type": "display_data",
          "data": {
            "image/png": "[encoded data removed]",
            "text/plain": [
              "<Figure size 432x288 with 1 Axes>"
            ]
          },
          "metadata": {
            "tags": [],
            "needs_background": "light"
          }
        }
      ]
    },
    {
      "cell_type": "markdown",
      "metadata": {
        "id": "EeaBKMPuc6P0"
      },
      "source": [
        "Inspecting the results: \n",
        "First, although the parameters may be optimal in terms of minimizing the negative log likelihood, we can see that the actual regression model is not effective in describing the data. Ideally, the lower part of the regression curve should describe the 0s and the higher part of the curve should correspond to 1. This means that if a new dataset of targets is given, we would not be able to predict which answer it is assciated with based on this model: regardless of whether the participants actually responded with 0 or 1 (A or H), the model will always predict that the participants responded with H (1). Below, I tried several approaches that might improve the model fit on the data.  "
      ]
    },
    {
      "cell_type": "markdown",
      "metadata": {
        "id": "10U76Sp5y8J0"
      },
      "source": [
        "**Approach 1: Zero-centering the data**\n",
        "\n",
        "First, I assumed one of the reasons that the previous model wasn't so good at describing the data was because the logistic regression is centered around zero (has probability of 0.5 when x is 0), but the data is ranged from 1 to 20. So I simply thought that shifting the data range so that it is centered around zero (has mean of zero) might solve this issue."
      ]
    },
    {
      "cell_type": "code",
      "metadata": {
        "id": "-lmcudYUCyGP",
        "colab": {
          "base_uri": "https://localhost:8080/"
        },
        "outputId": "6e9834bd-543b-4b3e-bbca-93b968999259"
      },
      "source": [
        "np.mean(X)\n",
        "x2 = x - np.mean(x)\n",
        "X2 = X - np.mean(X)\n",
        "popt2, _ = curve_fit(nll, X2,y)\n",
        "print(popt2)"
      ],
      "execution_count": 12,
      "outputs": [
        {
          "output_type": "stream",
          "text": [
            "[0.1147568  0.16586329]\n"
          ],
          "name": "stdout"
        },
        {
          "output_type": "stream",
          "text": [
            "/usr/local/lib/python3.6/dist-packages/ipykernel_launcher.py:4: RuntimeWarning: overflow encountered in exp\n",
            "  after removing the cwd from sys.path.\n",
            "/usr/local/lib/python3.6/dist-packages/ipykernel_launcher.py:9: RuntimeWarning: divide by zero encountered in log\n",
            "  if __name__ == '__main__':\n",
            "/usr/local/lib/python3.6/dist-packages/scipy/optimize/minpack.py:808: OptimizeWarning: Covariance of the parameters could not be estimated\n",
            "  category=OptimizeWarning)\n"
          ],
          "name": "stderr"
        }
      ]
    },
    {
      "cell_type": "code",
      "metadata": {
        "colab": {
          "base_uri": "https://localhost:8080/",
          "height": 296
        },
        "id": "szj5eHkswJCj",
        "outputId": "181ad860-e542-44a9-ad91-06cbd2b9cd12"
      },
      "source": [
        "plt.scatter(X2,y, marker='o')\n",
        "# x = s361['target']\n",
        "x2=np.arange(-20,20)\n",
        "plt.plot(x2,new_func(x2,*popt2), 'r--')\n",
        "plt.xlabel('Target')\n",
        "plt.ylabel('Resp')"
      ],
      "execution_count": 21,
      "outputs": [
        {
          "output_type": "execute_result",
          "data": {
            "text/plain": [
              "Text(0, 0.5, 'Resp')"
            ]
          },
          "metadata": {
            "tags": []
          },
          "execution_count": 21
        },
        {
          "output_type": "display_data",
          "data": {
            "image/png": "[encoded data removed]",
            "text/plain": [
              "<Figure size 432x288 with 1 Axes>"
            ]
          },
          "metadata": {
            "tags": [],
            "needs_background": "light"
          }
        }
      ]
    },
    {
      "cell_type": "markdown",
      "metadata": {
        "id": "3vmUGMHazmDy"
      },
      "source": [
        "However, as seen in the figure, this method didn't improve the model's fit to the data."
      ]
    },
    {
      "cell_type": "markdown",
      "metadata": {
        "id": "DqEhnd5Lzt15"
      },
      "source": [
        "**Approach 2: Normalizing the data to have mean of 0 and standard deviation of 1**\n",
        "\n",
        "After plotting the results of approach 1, it kind of made sense that it didn't improve the model's performance because the distance between Targets remained same (it would be easier for the model if As and Hs were more apart from each other in terms of x axis). So I configured that normalizing the x data might work, since it will also account for the relative distribution within the data. For normalization, I first subtracted the mean of x data and then divided it with the standard deviation."
      ]
    },
    {
      "cell_type": "code",
      "metadata": {
        "colab": {
          "base_uri": "https://localhost:8080/"
        },
        "id": "1kQGPIgNwitA",
        "outputId": "fb43eec8-c614-4214-e5ee-7218ce1988ed"
      },
      "source": [
        "x3 = (x - np.mean(x))/np.std(x) # Normalization \n",
        "X3 = (X - np.mean(X))/np.std(X)\n",
        "popt3, _ = curve_fit(nll, X3,y)\n",
        "print(popt3)"
      ],
      "execution_count": 14,
      "outputs": [
        {
          "output_type": "stream",
          "text": [
            "[-0.52208855  1.15372104]\n"
          ],
          "name": "stdout"
        },
        {
          "output_type": "stream",
          "text": [
            "/usr/local/lib/python3.6/dist-packages/ipykernel_launcher.py:9: RuntimeWarning: divide by zero encountered in log\n",
            "  if __name__ == '__main__':\n",
            "/usr/local/lib/python3.6/dist-packages/scipy/optimize/minpack.py:808: OptimizeWarning: Covariance of the parameters could not be estimated\n",
            "  category=OptimizeWarning)\n"
          ],
          "name": "stderr"
        }
      ]
    },
    {
      "cell_type": "markdown",
      "metadata": {
        "id": "lJ193yym0rwH"
      },
      "source": [
        "However, we can observe in the below figure that even after normalization, the two different classes remained clustered within the same range."
      ]
    },
    {
      "cell_type": "code",
      "metadata": {
        "colab": {
          "base_uri": "https://localhost:8080/",
          "height": 296
        },
        "id": "680oE6lyxMuk",
        "outputId": "934e4c05-f660-4873-b0ab-678dd96a514a"
      },
      "source": [
        "plt.scatter(X3,y, marker='o')\n",
        "# x = s361['target']\n",
        "x3=np.arange(-10,10)\n",
        "plt.plot(x3,new_func(x3,*popt3), 'r--')\n",
        "plt.xlabel('Target')\n",
        "plt.ylabel('Resp')"
      ],
      "execution_count": 25,
      "outputs": [
        {
          "output_type": "execute_result",
          "data": {
            "text/plain": [
              "Text(0, 0.5, 'Resp')"
            ]
          },
          "metadata": {
            "tags": []
          },
          "execution_count": 25
        },
        {
          "output_type": "display_data",
          "data": {
            "image/png": "[encoded data removed]",
            "text/plain": [
              "<Figure size 432x288 with 1 Axes>"
            ]
          },
          "metadata": {
            "tags": [],
            "needs_background": "light"
          }
        }
      ]
    },
    {
      "cell_type": "markdown",
      "metadata": {
        "id": "LN0FrTT6027T"
      },
      "source": [
        "Conclusion: the best parameters acquired by optimization don't necessarily provide the model that describes the data well. In order to see if the optimized model fits the data well, you should check it by plotting it on the data. If the model doesn't seem to fit to the data, then further processes on the data might be needed."
      ]
    }
  ]
}