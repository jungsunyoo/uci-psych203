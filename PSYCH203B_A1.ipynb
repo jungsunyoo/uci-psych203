{
  "nbformat": 4,
  "nbformat_minor": 0,
  "metadata": {
    "colab": {
      "name": "PSYCH203B_A1.ipynb",
      "provenance": [],
      "authorship_tag": "ABX9TyPwhwo9OF2PhKfFyN0Pvo0y",
      "include_colab_link": true
    },
    "kernelspec": {
      "name": "python3",
      "display_name": "Python 3"
    }
  },
  "cells": [
    {
      "cell_type": "markdown",
      "metadata": {
        "id": "view-in-github",
        "colab_type": "text"
      },
      "source": [
        "<a href=\"https://colab.research.google.com/github/yoojungsun0/uci-psych203/blob/main/PSYCH203B_A1.ipynb\" target=\"_parent\"><img src=\"https://colab.research.google.com/assets/colab-badge.svg\" alt=\"Open In Colab\"/></a>"
      ]
    },
    {
      "cell_type": "markdown",
      "metadata": {
        "id": "uaFxY2wE3SvC"
      },
      "source": [
        "1. Go visualize the data. How does resp change as a function of target for sessionID 361?\n",
        "\n"
      ]
    },
    {
      "cell_type": "code",
      "metadata": {
        "colab": {
          "base_uri": "https://localhost:8080/",
          "height": 204
        },
        "id": "x8vpJSAM1fCr",
        "outputId": "c665ec76-d884-41aa-f412-a173d911ebbc"
      },
      "source": [
        "import pandas as pd\n",
        "from urllib.request import Request, urlopen\n",
        "import matplotlib.pyplot as plt\n",
        "import numpy as np\n",
        "\n",
        "url = \"https://raw.githubusercontent.com/PerceptionCognitionLab/data2/master/out/morph1.dat\"\n",
        "url_request  = Request(url)\n",
        "data = urlopen(url_request )\n",
        "df = pd.read_table(data, header=0, sep=' ')\n",
        "df.head(5)"
      ],
      "execution_count": 1,
      "outputs": [
        {
          "output_type": "execute_result",
          "data": {
            "text/html": [
              "<div>\n",
              "<style scoped>\n",
              "    .dataframe tbody tr th:only-of-type {\n",
              "        vertical-align: middle;\n",
              "    }\n",
              "\n",
              "    .dataframe tbody tr th {\n",
              "        vertical-align: top;\n",
              "    }\n",
              "\n",
              "    .dataframe thead th {\n",
              "        text-align: right;\n",
              "    }\n",
              "</style>\n",
              "<table border=\"1\" class=\"dataframe\">\n",
              "  <thead>\n",
              "    <tr style=\"text-align: right;\">\n",
              "      <th></th>\n",
              "      <th>datID</th>\n",
              "      <th>sessionID</th>\n",
              "      <th>block</th>\n",
              "      <th>trial</th>\n",
              "      <th>background</th>\n",
              "      <th>target</th>\n",
              "      <th>forePeriod</th>\n",
              "      <th>resp</th>\n",
              "      <th>rt</th>\n",
              "    </tr>\n",
              "  </thead>\n",
              "  <tbody>\n",
              "    <tr>\n",
              "      <th>0</th>\n",
              "      <td>1</td>\n",
              "      <td>360</td>\n",
              "      <td>0</td>\n",
              "      <td>0</td>\n",
              "      <td>0</td>\n",
              "      <td>1</td>\n",
              "      <td>32</td>\n",
              "      <td>0</td>\n",
              "      <td>1.262</td>\n",
              "    </tr>\n",
              "    <tr>\n",
              "      <th>1</th>\n",
              "      <td>2</td>\n",
              "      <td>360</td>\n",
              "      <td>0</td>\n",
              "      <td>1</td>\n",
              "      <td>0</td>\n",
              "      <td>8</td>\n",
              "      <td>31</td>\n",
              "      <td>0</td>\n",
              "      <td>0.934</td>\n",
              "    </tr>\n",
              "    <tr>\n",
              "      <th>2</th>\n",
              "      <td>3</td>\n",
              "      <td>360</td>\n",
              "      <td>0</td>\n",
              "      <td>2</td>\n",
              "      <td>0</td>\n",
              "      <td>9</td>\n",
              "      <td>35</td>\n",
              "      <td>1</td>\n",
              "      <td>0.604</td>\n",
              "    </tr>\n",
              "    <tr>\n",
              "      <th>3</th>\n",
              "      <td>4</td>\n",
              "      <td>360</td>\n",
              "      <td>0</td>\n",
              "      <td>3</td>\n",
              "      <td>0</td>\n",
              "      <td>0</td>\n",
              "      <td>31</td>\n",
              "      <td>0</td>\n",
              "      <td>0.617</td>\n",
              "    </tr>\n",
              "    <tr>\n",
              "      <th>4</th>\n",
              "      <td>5</td>\n",
              "      <td>360</td>\n",
              "      <td>0</td>\n",
              "      <td>4</td>\n",
              "      <td>0</td>\n",
              "      <td>7</td>\n",
              "      <td>31</td>\n",
              "      <td>0</td>\n",
              "      <td>0.486</td>\n",
              "    </tr>\n",
              "  </tbody>\n",
              "</table>\n",
              "</div>"
            ],
            "text/plain": [
              "   datID  sessionID  block  trial  background  target  forePeriod  resp     rt\n",
              "0      1        360      0      0           0       1          32     0  1.262\n",
              "1      2        360      0      1           0       8          31     0  0.934\n",
              "2      3        360      0      2           0       9          35     1  0.604\n",
              "3      4        360      0      3           0       0          31     0  0.617\n",
              "4      5        360      0      4           0       7          31     0  0.486"
            ]
          },
          "metadata": {
            "tags": []
          },
          "execution_count": 1
        }
      ]
    },
    {
      "cell_type": "code",
      "metadata": {
        "colab": {
          "base_uri": "https://localhost:8080/",
          "height": 282
        },
        "id": "QPyLGPts23l9",
        "outputId": "d5678442-a663-459a-9b4e-bfda79f6491d"
      },
      "source": [
        "s361 = df.loc[df['sessionID'] == 361]\n",
        "\n",
        "x = np.asarray(s361['target'])\n",
        "y = np.asarray(s361['resp'])\n",
        "X = x.reshape(-1,1)\n",
        "\n",
        "plt.scatter(x, y, marker='o')\n"
      ],
      "execution_count": 2,
      "outputs": [
        {
          "output_type": "execute_result",
          "data": {
            "text/plain": [
              "<matplotlib.collections.PathCollection at 0x7ff324854780>"
            ]
          },
          "metadata": {
            "tags": []
          },
          "execution_count": 2
        },
        {
          "output_type": "display_data",
          "data": {
            "image/png": "[encoded data removed]",
            "text/plain": [
              "<Figure size 432x288 with 1 Axes>"
            ]
          },
          "metadata": {
            "tags": [],
            "needs_background": "light"
          }
        }
      ]
    },
    {
      "cell_type": "markdown",
      "metadata": {
        "id": "CoHIifCamNGs"
      },
      "source": [
        "2. Fit a logistic regression model to it. What are the best parameter estimates?\n",
        "\n"
      ]
    },
    {
      "cell_type": "code",
      "metadata": {
        "colab": {
          "base_uri": "https://localhost:8080/"
        },
        "id": "MfBqaGXoougu",
        "outputId": "6e151c68-3395-4fe8-efd2-6f76c09e822e"
      },
      "source": [
        "from scipy.optimize import curve_fit\n",
        "\n",
        "def make_p(q):\n",
        "  return 1 / (1+np.exp(-q))\n",
        "\n",
        "def nll(par, x, dat):\n",
        "  q = par[0] + par[1]*x\n",
        "  p = make_p(q)\n",
        "  llvec = dat*np.log(p) + (1-dat)*np.log(1-p)\n",
        "  return -np.sum(llvec)\n",
        "\n",
        "popt, pcov = curve_fit(nll, X,y)"
      ],
      "execution_count": 3,
      "outputs": [
        {
          "output_type": "stream",
          "text": [
            "/usr/local/lib/python3.6/dist-packages/ipykernel_launcher.py:9: RuntimeWarning: divide by zero encountered in log\n",
            "  if __name__ == '__main__':\n",
            "/usr/local/lib/python3.6/dist-packages/ipykernel_launcher.py:4: RuntimeWarning: overflow encountered in exp\n",
            "  after removing the cwd from sys.path.\n",
            "/usr/local/lib/python3.6/dist-packages/scipy/optimize/minpack.py:808: OptimizeWarning: Covariance of the parameters could not be estimated\n",
            "  category=OptimizeWarning)\n"
          ],
          "name": "stderr"
        }
      ]
    },
    {
      "cell_type": "code",
      "metadata": {
        "colab": {
          "base_uri": "https://localhost:8080/"
        },
        "id": "KkMcBL-Btz_F",
        "outputId": "2f3a0127-ed1e-45fb-b18f-5cdc4c6aab7a"
      },
      "source": [
        "popt"
      ],
      "execution_count": 4,
      "outputs": [
        {
          "output_type": "execute_result",
          "data": {
            "text/plain": [
              "array([-2.5454863 ,  1.01098412])"
            ]
          },
          "metadata": {
            "tags": []
          },
          "execution_count": 4
        }
      ]
    },
    {
      "cell_type": "code",
      "metadata": {
        "colab": {
          "base_uri": "https://localhost:8080/"
        },
        "id": "hBO6a-hht0IR",
        "outputId": "8a5bf301-7392-479b-8158-24ab6131e50e"
      },
      "source": [
        "pcov"
      ],
      "execution_count": 5,
      "outputs": [
        {
          "output_type": "execute_result",
          "data": {
            "text/plain": [
              "array([[inf, inf],\n",
              "       [inf, inf]])"
            ]
          },
          "metadata": {
            "tags": []
          },
          "execution_count": 5
        }
      ]
    },
    {
      "cell_type": "code",
      "metadata": {
        "id": "7MO2ayumvkx6"
      },
      "source": [
        "def new_func(x, alpha, beta):\n",
        "  q = alpha + beta*x\n",
        "  p = make_p(q)\n",
        "  return p"
      ],
      "execution_count": 6,
      "outputs": []
    },
    {
      "cell_type": "code",
      "metadata": {
        "colab": {
          "base_uri": "https://localhost:8080/",
          "height": 282
        },
        "id": "DNP_Tf0JvKy9",
        "outputId": "f876ae3f-d8f3-4b16-895c-c410f46b8006"
      },
      "source": [
        "plt.scatter(X,y, marker='o')\n",
        "# x = s361['target']\n",
        "x=np.arange(-20,20)\n",
        "plt.plot(x,new_func(x,*popt), 'r--')"
      ],
      "execution_count": 8,
      "outputs": [
        {
          "output_type": "execute_result",
          "data": {
            "text/plain": [
              "[<matplotlib.lines.Line2D at 0x7ff3167f68d0>]"
            ]
          },
          "metadata": {
            "tags": []
          },
          "execution_count": 8
        },
        {
          "output_type": "display_data",
          "data": {
            "image/png": "[encoded data removed]",
            "text/plain": [
              "<Figure size 432x288 with 1 Axes>"
            ]
          },
          "metadata": {
            "tags": [],
            "needs_background": "light"
          }
        }
      ]
    },
    {
      "cell_type": "markdown",
      "metadata": {
        "id": "yR7VQpox0i5u"
      },
      "source": [
        "3. How does this regression model account for the data? Visualize it. You should be able to draw the logistic curve at the MLE on top of the data. Then you can inspect the results to look for misfits."
      ]
    },
    {
      "cell_type": "code",
      "metadata": {
        "id": "-lmcudYUCyGP"
      },
      "source": [
        ""
      ],
      "execution_count": 7,
      "outputs": []
    }
  ]
}